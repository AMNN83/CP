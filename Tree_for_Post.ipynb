{
 "cells": [
  {
   "cell_type": "code",
   "execution_count": 1,
   "id": "0deb7ce0",
   "metadata": {},
   "outputs": [],
   "source": [
    "import pandas as pd\n",
    "import numpy as np\n",
    "from sklearn import metrics\n",
    "import matplotlib.pyplot as plt\n",
    "import seaborn as sns\n",
    "%matplotlib inline"
   ]
  },
  {
   "cell_type": "markdown",
   "id": "4285b73f",
   "metadata": {},
   "source": [
    "Условие задачи\n",
    "Разработка модели предсказания потери почтовых отправлений.\n",
    "\n",
    "Описание входных значений\n",
    "● train.csv — файл, содержащий данные о посылках, включая статус\n",
    "отправления;\n",
    "● test.csv — файл, содержащий данные о посылках для предсказания ;\n",
    "● sample_solution.csv — пример файла для отправки;\n",
    "\n",
    "Расшифровка столбцов\n",
    "\n",
    "oper_type + oper_attr   Тип и атрибут операции\n",
    "index_oper              Индекс места операции\n",
    "type                    Обозначение типа объекта почтовой связи\n",
    "priority                Приоритет объекта\n",
    "is_privatecategory      Y - является отделением закрытого типа, N - иначе\n",
    "class                   Значение класса или категории объекта почтовой связи\n",
    "is_in_yandex            Y - адрес отделения связи отображается в Яндекс-картах, N - иначе\n",
    "is_return               Y - Отправление движется в направлении возврата отправителю, N - иначе\n",
    "weight                  Вес в граммах\n",
    "mailtype                Код вида отправления\n",
    "mailctg                 Код категории почтового отправления\n",
    "mailrank                Код разряда почтового отправления\n",
    "directctg               Код классификации отправления\n",
    "transport_pay           Общая сумма платы за пересылку в условной валюте\n",
    "postmark                Код отметки\n",
    "name_mfi                Наименование вложений (указано через запятую), указывается на бирке отправления\n",
    "weight_mfi              Суммарная масса вложений\n",
    "price_mfi               Суммарная стоимость вложений в условной валюте\n",
    "dist_qty_oper_login_1   Количество уникальных имен операторов, задействованных в обработке данного типа отправлений (mailtype)                           на конкретном индексе, по которым возможно идентифицировать оператора\n",
    "total_qty_oper_login_1  Количество отправлений с уникальным именем операторов, задействованных в обработке данного типа      \n",
    "                        отправлений (mailtype) на конкретном индексе, по которым возможно идентифицировать оператора\n",
    "total_qty_oper_login_0  Количество отправлений данного типа (mailtype), которые были обработаны неизвестным оператором на этом \n",
    "                        индексе\n",
    "total_qty_over_index_and_type    Общее количество отправлений данного типа (mailtype), прошедших обработку на этом индексе\n",
    "total_qty_over_index    Общее количество отправлений, прошедших обработку на этом индексе\n",
    "is_wrong_sndr_name      Есть ли явные признаки, что имя отправителя введено некорректно? 1 - да, 0 - иначе\n",
    "is_wrong_rcpn_name      Есть ли явные признаки, что имя получателя введено некорректно? 1 - да, 0 - иначе\n",
    "is_wrong_phone_number   Есть ли явные признаки, что номер телефона получателя введен некорректно? 1 - да, 0 - иначе\n",
    "is_wrong_address        Есть ли явные признаки, что адрес получателя введен некорректно? 1 - да, 0 - иначе\n",
    "label                   СТРОКА ДЛЯ ПРЕДСКАЗАНИЯ 1 - операция, на которой цифровой след оборвался, т.к. отправление потеряно\n",
    "                        0 - отправление было вручено или возвращено отправителю\n",
    "\n",
    "Метрика\n",
    "В качестве метрики выступает комбинация двух значений:\n",
    "\n",
    "Результирующее значение выглядит как:\n",
    "Result = 0.1 * Recall + 0.9 * AUC_ROC\n",
    "TP (True Positive) — количество верно угаданных значений того, что посылка\n",
    "пропала.\n",
    "FN (False Negative) — количество значений, где было предсказано, что\n",
    "посылка пропадет, а она не пропала.\n",
    "FP (False Positive) — количество значений, где было предсказано, что посылка\n",
    "не пропадет, а она пропала.\n",
    "TN (False Negative) — количество верно угаданных значений того, что\n",
    "посылка не пропала."
   ]
  },
  {
   "cell_type": "code",
   "execution_count": 2,
   "id": "24cfbdea",
   "metadata": {},
   "outputs": [
    {
     "name": "stderr",
     "output_type": "stream",
     "text": [
      "C:\\Users\\1\\AppData\\Local\\Temp\\ipykernel_10040\\3285548023.py:1: DtypeWarning: Columns (2) have mixed types. Specify dtype option on import or set low_memory=False.\n",
      "  df_train= pd.read_csv(\"train_dataset_train.csv\", sep = ',')\n"
     ]
    }
   ],
   "source": [
    "df_train= pd.read_csv(\"train_dataset_train.csv\", sep = ',')"
   ]
  },
  {
   "cell_type": "code",
   "execution_count": 3,
   "id": "95e27f50",
   "metadata": {},
   "outputs": [
    {
     "data": {
      "text/html": [
       "<div>\n",
       "<style scoped>\n",
       "    .dataframe tbody tr th:only-of-type {\n",
       "        vertical-align: middle;\n",
       "    }\n",
       "\n",
       "    .dataframe tbody tr th {\n",
       "        vertical-align: top;\n",
       "    }\n",
       "\n",
       "    .dataframe thead th {\n",
       "        text-align: right;\n",
       "    }\n",
       "</style>\n",
       "<table border=\"1\" class=\"dataframe\">\n",
       "  <thead>\n",
       "    <tr style=\"text-align: right;\">\n",
       "      <th></th>\n",
       "      <th>id</th>\n",
       "      <th>oper_type + oper_attr</th>\n",
       "      <th>index_oper</th>\n",
       "      <th>type</th>\n",
       "      <th>priority</th>\n",
       "      <th>is_privatecategory</th>\n",
       "      <th>class</th>\n",
       "      <th>is_in_yandex</th>\n",
       "      <th>is_return</th>\n",
       "      <th>weight</th>\n",
       "      <th>...</th>\n",
       "      <th>dist_qty_oper_login_1</th>\n",
       "      <th>total_qty_oper_login_1</th>\n",
       "      <th>total_qty_oper_login_0</th>\n",
       "      <th>total_qty_over_index_and_type</th>\n",
       "      <th>total_qty_over_index</th>\n",
       "      <th>is_wrong_sndr_name</th>\n",
       "      <th>is_wrong_rcpn_name</th>\n",
       "      <th>is_wrong_phone_number</th>\n",
       "      <th>is_wrong_address</th>\n",
       "      <th>label</th>\n",
       "    </tr>\n",
       "  </thead>\n",
       "  <tbody>\n",
       "    <tr>\n",
       "      <th>0</th>\n",
       "      <td>6818780</td>\n",
       "      <td>1043_-1</td>\n",
       "      <td>628629.0</td>\n",
       "      <td>Участок</td>\n",
       "      <td>7503.0</td>\n",
       "      <td>N</td>\n",
       "      <td>0.0</td>\n",
       "      <td>Y</td>\n",
       "      <td>N</td>\n",
       "      <td>87.0</td>\n",
       "      <td>...</td>\n",
       "      <td>42.0</td>\n",
       "      <td>720176.0</td>\n",
       "      <td>58950.0</td>\n",
       "      <td>779126.0</td>\n",
       "      <td>8290896.0</td>\n",
       "      <td>0</td>\n",
       "      <td>0</td>\n",
       "      <td>0</td>\n",
       "      <td>0</td>\n",
       "      <td>0</td>\n",
       "    </tr>\n",
       "    <tr>\n",
       "      <th>1</th>\n",
       "      <td>9907176</td>\n",
       "      <td>1023_-1</td>\n",
       "      <td>102976.0</td>\n",
       "      <td>ММПО</td>\n",
       "      <td>7503.0</td>\n",
       "      <td>N</td>\n",
       "      <td>0.0</td>\n",
       "      <td>N</td>\n",
       "      <td>N</td>\n",
       "      <td>107.0</td>\n",
       "      <td>...</td>\n",
       "      <td>914.0</td>\n",
       "      <td>48856658.0</td>\n",
       "      <td>83318932.0</td>\n",
       "      <td>132175590.0</td>\n",
       "      <td>136819803.0</td>\n",
       "      <td>0</td>\n",
       "      <td>0</td>\n",
       "      <td>0</td>\n",
       "      <td>0</td>\n",
       "      <td>0</td>\n",
       "    </tr>\n",
       "    <tr>\n",
       "      <th>2</th>\n",
       "      <td>3304275</td>\n",
       "      <td>1018_-1</td>\n",
       "      <td>620962.0</td>\n",
       "      <td>Цех</td>\n",
       "      <td>7503.0</td>\n",
       "      <td>N</td>\n",
       "      <td>0.0</td>\n",
       "      <td>Y</td>\n",
       "      <td>N</td>\n",
       "      <td>50.0</td>\n",
       "      <td>...</td>\n",
       "      <td>62.0</td>\n",
       "      <td>3246292.0</td>\n",
       "      <td>3233068.0</td>\n",
       "      <td>6479360.0</td>\n",
       "      <td>52708071.0</td>\n",
       "      <td>0</td>\n",
       "      <td>1</td>\n",
       "      <td>0</td>\n",
       "      <td>0</td>\n",
       "      <td>0</td>\n",
       "    </tr>\n",
       "  </tbody>\n",
       "</table>\n",
       "<p>3 rows × 29 columns</p>\n",
       "</div>"
      ],
      "text/plain": [
       "        id oper_type + oper_attr index_oper     type  priority  \\\n",
       "0  6818780               1043_-1   628629.0  Участок    7503.0   \n",
       "1  9907176               1023_-1   102976.0     ММПО    7503.0   \n",
       "2  3304275               1018_-1   620962.0      Цех    7503.0   \n",
       "\n",
       "  is_privatecategory  class is_in_yandex is_return  weight  ...  \\\n",
       "0                  N    0.0            Y         N    87.0  ...   \n",
       "1                  N    0.0            N         N   107.0  ...   \n",
       "2                  N    0.0            Y         N    50.0  ...   \n",
       "\n",
       "   dist_qty_oper_login_1  total_qty_oper_login_1  total_qty_oper_login_0  \\\n",
       "0                   42.0                720176.0                 58950.0   \n",
       "1                  914.0              48856658.0              83318932.0   \n",
       "2                   62.0               3246292.0               3233068.0   \n",
       "\n",
       "   total_qty_over_index_and_type  total_qty_over_index  is_wrong_sndr_name  \\\n",
       "0                       779126.0             8290896.0                   0   \n",
       "1                    132175590.0           136819803.0                   0   \n",
       "2                      6479360.0            52708071.0                   0   \n",
       "\n",
       "  is_wrong_rcpn_name  is_wrong_phone_number  is_wrong_address  label  \n",
       "0                  0                      0                 0      0  \n",
       "1                  0                      0                 0      0  \n",
       "2                  1                      0                 0      0  \n",
       "\n",
       "[3 rows x 29 columns]"
      ]
     },
     "execution_count": 3,
     "metadata": {},
     "output_type": "execute_result"
    }
   ],
   "source": [
    "df_train.head(3)"
   ]
  },
  {
   "cell_type": "code",
   "execution_count": 4,
   "id": "4e2e67e4",
   "metadata": {},
   "outputs": [
    {
     "name": "stdout",
     "output_type": "stream",
     "text": [
      "<class 'pandas.core.frame.DataFrame'>\n",
      "RangeIndex: 6000000 entries, 0 to 5999999\n",
      "Data columns (total 29 columns):\n",
      " #   Column                         Dtype  \n",
      "---  ------                         -----  \n",
      " 0   id                             int64  \n",
      " 1   oper_type + oper_attr          object \n",
      " 2   index_oper                     object \n",
      " 3   type                           object \n",
      " 4   priority                       float64\n",
      " 5   is_privatecategory             object \n",
      " 6   class                          float64\n",
      " 7   is_in_yandex                   object \n",
      " 8   is_return                      object \n",
      " 9   weight                         float64\n",
      " 10  mailtype                       float64\n",
      " 11  mailctg                        float64\n",
      " 12  mailrank                       float64\n",
      " 13  directctg                      float64\n",
      " 14  transport_pay                  float64\n",
      " 15  postmark                       float64\n",
      " 16  name_mfi                       object \n",
      " 17  weight_mfi                     float64\n",
      " 18  price_mfi                      float64\n",
      " 19  dist_qty_oper_login_1          float64\n",
      " 20  total_qty_oper_login_1         float64\n",
      " 21  total_qty_oper_login_0         float64\n",
      " 22  total_qty_over_index_and_type  float64\n",
      " 23  total_qty_over_index           float64\n",
      " 24  is_wrong_sndr_name             int64  \n",
      " 25  is_wrong_rcpn_name             int64  \n",
      " 26  is_wrong_phone_number          int64  \n",
      " 27  is_wrong_address               int64  \n",
      " 28  label                          int64  \n",
      "dtypes: float64(16), int64(6), object(7)\n",
      "memory usage: 1.3+ GB\n"
     ]
    }
   ],
   "source": [
    "df_train.info()"
   ]
  },
  {
   "cell_type": "code",
   "execution_count": 5,
   "id": "42c6d185",
   "metadata": {},
   "outputs": [
    {
     "data": {
      "text/plain": [
       "id                               6000000\n",
       "oper_type + oper_attr                109\n",
       "index_oper                         38661\n",
       "type                                  20\n",
       "priority                               4\n",
       "is_privatecategory                     3\n",
       "class                                  6\n",
       "is_in_yandex                           3\n",
       "is_return                              2\n",
       "weight                              2809\n",
       "mailtype                               9\n",
       "mailctg                                5\n",
       "mailrank                               1\n",
       "directctg                              3\n",
       "transport_pay                      10412\n",
       "postmark                               6\n",
       "name_mfi                          212936\n",
       "weight_mfi                          2070\n",
       "price_mfi                           6595\n",
       "dist_qty_oper_login_1                165\n",
       "total_qty_oper_login_1             18377\n",
       "total_qty_oper_login_0              9351\n",
       "total_qty_over_index_and_type      20097\n",
       "total_qty_over_index               35188\n",
       "is_wrong_sndr_name                     2\n",
       "is_wrong_rcpn_name                     2\n",
       "is_wrong_phone_number                  2\n",
       "is_wrong_address                       2\n",
       "label                                  2\n",
       "dtype: int64"
      ]
     },
     "execution_count": 5,
     "metadata": {},
     "output_type": "execute_result"
    }
   ],
   "source": [
    "df_train.nunique()"
   ]
  },
  {
   "cell_type": "code",
   "execution_count": null,
   "id": "b1de422b",
   "metadata": {},
   "outputs": [],
   "source": [
    "## сделать карту\n",
    "1   oper_type + oper_attr          object \n",
    " 2   index_oper                     object \n",
    " 3   type                           object \n",
    "  5   is_privatecategory             object \n",
    " 7   is_in_yandex                   object \n",
    " 8   is_return                      object "
   ]
  },
  {
   "cell_type": "code",
   "execution_count": null,
   "id": "49256d93",
   "metadata": {},
   "outputs": [],
   "source": [
    "##кластеризовать\n",
    "oper_type + oper_attr                109\n",
    "\n",
    "weight                              2809\n",
    "\n",
    "transport_pay                      10412\n",
    "\n",
    "weight_mfi                          2070\n",
    "price_mfi                           6595\n"
   ]
  },
  {
   "cell_type": "code",
   "execution_count": 5,
   "id": "1dbdaac4",
   "metadata": {},
   "outputs": [
    {
     "data": {
      "text/plain": [
       "array(['1043_-1', '1023_-1', '1018_-1', '1019_-1', '1020_-1', '1001_-1',\n",
       "       '8_13', '1_-1', '1022_-1', '8_0', '8_3', '1041_-1', '1016_-1',\n",
       "       '11_-1', '8_2', '8_6', '183_-1', '1042_-1', '9_-1', '1004_-1',\n",
       "       '14_1', '1014_-1', '26_-1', '1044_-1', '29_-1', '0_-1', '184_-1',\n",
       "       '185_-1', '39_-1', '2_1', '131_-1', '12_9', '41_-1', '2_6',\n",
       "       '14_10', '12_1', '1026_-1', '1015_-1', '154_-1', '1025_-1',\n",
       "       '1017_-1', '1012_-1', '8_5', '12_8', '8_4', '8_20', '1021_-1',\n",
       "       '4_3', '14_1001', '14_18', '1027_-1', '6_3', '1017_1001', '114_-1',\n",
       "       '1045_-1', '3_1', '14_21', '1017_1000', '30_-1', '1005_-1', '4_1',\n",
       "       '184_1', '14_20', '8_182', '2_8', '11_0', '104_-1', '183_1',\n",
       "       '41_4', '12_11', '20_-1', '15_-1', '41_1', '14_16', '12_2',\n",
       "       '1013_-1', '12_10', '1002_-1', '3_9', '8_1', '12_4', '1003_-1',\n",
       "       '2_10', '6_1', '4_2', '14_6', '14_17', '8_22', '2_11', '10_-1',\n",
       "       '8_18', '41_3', '12_6', '3_10', '34_-1', '2_2', '6_5', '5_3',\n",
       "       '24_-1', '5_1', '8_15', '8_21', '8_51', '14_19', '128_-1', '12_7',\n",
       "       '192_-1', '14_1002', '1009_-1'], dtype=object)"
      ]
     },
     "execution_count": 5,
     "metadata": {},
     "output_type": "execute_result"
    }
   ],
   "source": [
    "df_train['oper_type + oper_attr'].unique()"
   ]
  },
  {
   "cell_type": "code",
   "execution_count": 6,
   "id": "2c508798",
   "metadata": {},
   "outputs": [],
   "source": [
    "df_train['oper_type']=df_train['oper_type + oper_attr'].apply(lambda x: str(x)[:str(x).find('_')])"
   ]
  },
  {
   "cell_type": "code",
   "execution_count": 7,
   "id": "a7fce3a8",
   "metadata": {},
   "outputs": [],
   "source": [
    "df_train['oper_attr']=df_train['oper_type + oper_attr'].apply(lambda x: str(x)[str(x).find('_')+1:])"
   ]
  },
  {
   "cell_type": "code",
   "execution_count": 8,
   "id": "3262399b",
   "metadata": {},
   "outputs": [],
   "source": [
    "df_train['index_oper'] = df_train['index_oper'].astype(str)"
   ]
  },
  {
   "cell_type": "code",
   "execution_count": 9,
   "id": "aef16ca5",
   "metadata": {},
   "outputs": [],
   "source": [
    "df_train['index_oper'] = df_train['index_oper'].apply(lambda x: x.replace('.0', ''))"
   ]
  },
  {
   "cell_type": "code",
   "execution_count": 10,
   "id": "864299ef",
   "metadata": {},
   "outputs": [],
   "source": [
    "df_train = df_train.loc[df_train['index_oper'] != ' ']"
   ]
  },
  {
   "cell_type": "code",
   "execution_count": 11,
   "id": "0a474496",
   "metadata": {},
   "outputs": [],
   "source": [
    "df_train['index_oper'] = df_train['index_oper'].astype(float)"
   ]
  },
  {
   "cell_type": "code",
   "execution_count": 12,
   "id": "39b5941f",
   "metadata": {},
   "outputs": [
    {
     "name": "stdout",
     "output_type": "stream",
     "text": [
      "<class 'pandas.core.frame.DataFrame'>\n",
      "Int64Index: 5999846 entries, 0 to 5999999\n",
      "Data columns (total 31 columns):\n",
      " #   Column                         Dtype  \n",
      "---  ------                         -----  \n",
      " 0   id                             int64  \n",
      " 1   oper_type + oper_attr          object \n",
      " 2   index_oper                     float64\n",
      " 3   type                           object \n",
      " 4   priority                       float64\n",
      " 5   is_privatecategory             object \n",
      " 6   class                          float64\n",
      " 7   is_in_yandex                   object \n",
      " 8   is_return                      object \n",
      " 9   weight                         float64\n",
      " 10  mailtype                       float64\n",
      " 11  mailctg                        float64\n",
      " 12  mailrank                       float64\n",
      " 13  directctg                      float64\n",
      " 14  transport_pay                  float64\n",
      " 15  postmark                       float64\n",
      " 16  name_mfi                       object \n",
      " 17  weight_mfi                     float64\n",
      " 18  price_mfi                      float64\n",
      " 19  dist_qty_oper_login_1          float64\n",
      " 20  total_qty_oper_login_1         float64\n",
      " 21  total_qty_oper_login_0         float64\n",
      " 22  total_qty_over_index_and_type  float64\n",
      " 23  total_qty_over_index           float64\n",
      " 24  is_wrong_sndr_name             int64  \n",
      " 25  is_wrong_rcpn_name             int64  \n",
      " 26  is_wrong_phone_number          int64  \n",
      " 27  is_wrong_address               int64  \n",
      " 28  label                          int64  \n",
      " 29  oper_type                      object \n",
      " 30  oper_attr                      object \n",
      "dtypes: float64(17), int64(6), object(8)\n",
      "memory usage: 1.4+ GB\n"
     ]
    }
   ],
   "source": [
    "df_train.info()"
   ]
  },
  {
   "cell_type": "code",
   "execution_count": 13,
   "id": "c99f69c3",
   "metadata": {},
   "outputs": [],
   "source": [
    "df_train['oper_type'] = df_train['oper_type'].astype(float)"
   ]
  },
  {
   "cell_type": "code",
   "execution_count": 14,
   "id": "54a91f28",
   "metadata": {},
   "outputs": [],
   "source": [
    "df_train['oper_attr'] = df_train['oper_attr'].astype(float)"
   ]
  },
  {
   "cell_type": "code",
   "execution_count": 15,
   "id": "623937e1",
   "metadata": {},
   "outputs": [
    {
     "data": {
      "text/html": [
       "<div>\n",
       "<style scoped>\n",
       "    .dataframe tbody tr th:only-of-type {\n",
       "        vertical-align: middle;\n",
       "    }\n",
       "\n",
       "    .dataframe tbody tr th {\n",
       "        vertical-align: top;\n",
       "    }\n",
       "\n",
       "    .dataframe thead th {\n",
       "        text-align: right;\n",
       "    }\n",
       "</style>\n",
       "<table border=\"1\" class=\"dataframe\">\n",
       "  <thead>\n",
       "    <tr style=\"text-align: right;\">\n",
       "      <th></th>\n",
       "      <th>id</th>\n",
       "      <th>oper_type + oper_attr</th>\n",
       "      <th>index_oper</th>\n",
       "      <th>type</th>\n",
       "      <th>priority</th>\n",
       "      <th>is_privatecategory</th>\n",
       "      <th>class</th>\n",
       "      <th>is_in_yandex</th>\n",
       "      <th>is_return</th>\n",
       "      <th>weight</th>\n",
       "      <th>...</th>\n",
       "      <th>total_qty_oper_login_0</th>\n",
       "      <th>total_qty_over_index_and_type</th>\n",
       "      <th>total_qty_over_index</th>\n",
       "      <th>is_wrong_sndr_name</th>\n",
       "      <th>is_wrong_rcpn_name</th>\n",
       "      <th>is_wrong_phone_number</th>\n",
       "      <th>is_wrong_address</th>\n",
       "      <th>label</th>\n",
       "      <th>oper_type</th>\n",
       "      <th>oper_attr</th>\n",
       "    </tr>\n",
       "  </thead>\n",
       "  <tbody>\n",
       "    <tr>\n",
       "      <th>0</th>\n",
       "      <td>6818780</td>\n",
       "      <td>1043_-1</td>\n",
       "      <td>628629.0</td>\n",
       "      <td>Участок</td>\n",
       "      <td>7503.0</td>\n",
       "      <td>N</td>\n",
       "      <td>0.0</td>\n",
       "      <td>Y</td>\n",
       "      <td>N</td>\n",
       "      <td>87.0</td>\n",
       "      <td>...</td>\n",
       "      <td>58950.0</td>\n",
       "      <td>779126.0</td>\n",
       "      <td>8290896.0</td>\n",
       "      <td>0</td>\n",
       "      <td>0</td>\n",
       "      <td>0</td>\n",
       "      <td>0</td>\n",
       "      <td>0</td>\n",
       "      <td>1043.0</td>\n",
       "      <td>-1.0</td>\n",
       "    </tr>\n",
       "    <tr>\n",
       "      <th>1</th>\n",
       "      <td>9907176</td>\n",
       "      <td>1023_-1</td>\n",
       "      <td>102976.0</td>\n",
       "      <td>ММПО</td>\n",
       "      <td>7503.0</td>\n",
       "      <td>N</td>\n",
       "      <td>0.0</td>\n",
       "      <td>N</td>\n",
       "      <td>N</td>\n",
       "      <td>107.0</td>\n",
       "      <td>...</td>\n",
       "      <td>83318932.0</td>\n",
       "      <td>132175590.0</td>\n",
       "      <td>136819803.0</td>\n",
       "      <td>0</td>\n",
       "      <td>0</td>\n",
       "      <td>0</td>\n",
       "      <td>0</td>\n",
       "      <td>0</td>\n",
       "      <td>1023.0</td>\n",
       "      <td>-1.0</td>\n",
       "    </tr>\n",
       "    <tr>\n",
       "      <th>2</th>\n",
       "      <td>3304275</td>\n",
       "      <td>1018_-1</td>\n",
       "      <td>620962.0</td>\n",
       "      <td>Цех</td>\n",
       "      <td>7503.0</td>\n",
       "      <td>N</td>\n",
       "      <td>0.0</td>\n",
       "      <td>Y</td>\n",
       "      <td>N</td>\n",
       "      <td>50.0</td>\n",
       "      <td>...</td>\n",
       "      <td>3233068.0</td>\n",
       "      <td>6479360.0</td>\n",
       "      <td>52708071.0</td>\n",
       "      <td>0</td>\n",
       "      <td>1</td>\n",
       "      <td>0</td>\n",
       "      <td>0</td>\n",
       "      <td>0</td>\n",
       "      <td>1018.0</td>\n",
       "      <td>-1.0</td>\n",
       "    </tr>\n",
       "  </tbody>\n",
       "</table>\n",
       "<p>3 rows × 31 columns</p>\n",
       "</div>"
      ],
      "text/plain": [
       "        id oper_type + oper_attr  index_oper     type  priority  \\\n",
       "0  6818780               1043_-1    628629.0  Участок    7503.0   \n",
       "1  9907176               1023_-1    102976.0     ММПО    7503.0   \n",
       "2  3304275               1018_-1    620962.0      Цех    7503.0   \n",
       "\n",
       "  is_privatecategory  class is_in_yandex is_return  weight  ...  \\\n",
       "0                  N    0.0            Y         N    87.0  ...   \n",
       "1                  N    0.0            N         N   107.0  ...   \n",
       "2                  N    0.0            Y         N    50.0  ...   \n",
       "\n",
       "   total_qty_oper_login_0  total_qty_over_index_and_type  \\\n",
       "0                 58950.0                       779126.0   \n",
       "1              83318932.0                    132175590.0   \n",
       "2               3233068.0                      6479360.0   \n",
       "\n",
       "   total_qty_over_index  is_wrong_sndr_name  is_wrong_rcpn_name  \\\n",
       "0             8290896.0                   0                   0   \n",
       "1           136819803.0                   0                   0   \n",
       "2            52708071.0                   0                   1   \n",
       "\n",
       "   is_wrong_phone_number is_wrong_address  label  oper_type  oper_attr  \n",
       "0                      0                0      0     1043.0       -1.0  \n",
       "1                      0                0      0     1023.0       -1.0  \n",
       "2                      0                0      0     1018.0       -1.0  \n",
       "\n",
       "[3 rows x 31 columns]"
      ]
     },
     "execution_count": 15,
     "metadata": {},
     "output_type": "execute_result"
    }
   ],
   "source": [
    "df_train.head(3)"
   ]
  },
  {
   "cell_type": "code",
   "execution_count": 16,
   "id": "ac79f67b",
   "metadata": {},
   "outputs": [
    {
     "data": {
      "text/plain": [
       "array(['Участок', 'ММПО', 'Цех', 'П', 'ТИ', 'ГОПС', 'МСЦ', 'СОПС', 'АО',\n",
       "       'МРП', 'СЦ', 'МСО', 'ОПП', 'АОПП', 'ПЕРЕДВИЖНОЕ ОС', 'ОП', '0',\n",
       "       'ППС', 'УМСЦ', 'УКД'], dtype=object)"
      ]
     },
     "execution_count": 16,
     "metadata": {},
     "output_type": "execute_result"
    }
   ],
   "source": [
    "df_train['type'].unique()"
   ]
  },
  {
   "cell_type": "code",
   "execution_count": 17,
   "id": "1c47ebd3",
   "metadata": {},
   "outputs": [
    {
     "data": {
      "text/plain": [
       "array([7503., 7504., 7506.,    0.])"
      ]
     },
     "execution_count": 17,
     "metadata": {},
     "output_type": "execute_result"
    }
   ],
   "source": [
    "df_train['priority'].unique()"
   ]
  },
  {
   "cell_type": "code",
   "execution_count": 18,
   "id": "f3d4dd13",
   "metadata": {},
   "outputs": [
    {
     "data": {
      "text/plain": [
       "array(['Fishhook,USB', 'screen protector,Case(Q613B),case(208B40-DB)',\n",
       "       'Pendant Necklaces,Rings for Women,Necklaces', ...,\n",
       "       'shower head(4001139432488)', 'earrings(4000489893750)',\n",
       "       'Piston Rings PR-PW60-2SET(PR-PW60-2SET),Piston Rings PR-PW60-2SET(PR-PW6'],\n",
       "      dtype=object)"
      ]
     },
     "execution_count": 18,
     "metadata": {},
     "output_type": "execute_result"
    }
   ],
   "source": [
    "df_train['name_mfi'].unique()"
   ]
  },
  {
   "cell_type": "code",
   "execution_count": 19,
   "id": "3fbf5720",
   "metadata": {},
   "outputs": [
    {
     "data": {
      "text/html": [
       "<div>\n",
       "<style scoped>\n",
       "    .dataframe tbody tr th:only-of-type {\n",
       "        vertical-align: middle;\n",
       "    }\n",
       "\n",
       "    .dataframe tbody tr th {\n",
       "        vertical-align: top;\n",
       "    }\n",
       "\n",
       "    .dataframe thead th {\n",
       "        text-align: right;\n",
       "    }\n",
       "</style>\n",
       "<table border=\"1\" class=\"dataframe\">\n",
       "  <thead>\n",
       "    <tr style=\"text-align: right;\">\n",
       "      <th></th>\n",
       "      <th>id</th>\n",
       "      <th>oper_type + oper_attr</th>\n",
       "      <th>index_oper</th>\n",
       "      <th>type</th>\n",
       "      <th>priority</th>\n",
       "      <th>is_privatecategory</th>\n",
       "      <th>class</th>\n",
       "      <th>is_in_yandex</th>\n",
       "      <th>is_return</th>\n",
       "      <th>weight</th>\n",
       "      <th>...</th>\n",
       "      <th>total_qty_oper_login_0</th>\n",
       "      <th>total_qty_over_index_and_type</th>\n",
       "      <th>total_qty_over_index</th>\n",
       "      <th>is_wrong_sndr_name</th>\n",
       "      <th>is_wrong_rcpn_name</th>\n",
       "      <th>is_wrong_phone_number</th>\n",
       "      <th>is_wrong_address</th>\n",
       "      <th>label</th>\n",
       "      <th>oper_type</th>\n",
       "      <th>oper_attr</th>\n",
       "    </tr>\n",
       "  </thead>\n",
       "  <tbody>\n",
       "    <tr>\n",
       "      <th>0</th>\n",
       "      <td>6818780</td>\n",
       "      <td>1043_-1</td>\n",
       "      <td>628629.0</td>\n",
       "      <td>1</td>\n",
       "      <td>7503.0</td>\n",
       "      <td>0.0</td>\n",
       "      <td>0.0</td>\n",
       "      <td>1.0</td>\n",
       "      <td>0</td>\n",
       "      <td>87.0</td>\n",
       "      <td>...</td>\n",
       "      <td>58950.0</td>\n",
       "      <td>779126.0</td>\n",
       "      <td>8290896.0</td>\n",
       "      <td>0</td>\n",
       "      <td>0</td>\n",
       "      <td>0</td>\n",
       "      <td>0</td>\n",
       "      <td>0</td>\n",
       "      <td>1043.0</td>\n",
       "      <td>-1.0</td>\n",
       "    </tr>\n",
       "    <tr>\n",
       "      <th>1</th>\n",
       "      <td>9907176</td>\n",
       "      <td>1023_-1</td>\n",
       "      <td>102976.0</td>\n",
       "      <td>2</td>\n",
       "      <td>7503.0</td>\n",
       "      <td>0.0</td>\n",
       "      <td>0.0</td>\n",
       "      <td>0.0</td>\n",
       "      <td>0</td>\n",
       "      <td>107.0</td>\n",
       "      <td>...</td>\n",
       "      <td>83318932.0</td>\n",
       "      <td>132175590.0</td>\n",
       "      <td>136819803.0</td>\n",
       "      <td>0</td>\n",
       "      <td>0</td>\n",
       "      <td>0</td>\n",
       "      <td>0</td>\n",
       "      <td>0</td>\n",
       "      <td>1023.0</td>\n",
       "      <td>-1.0</td>\n",
       "    </tr>\n",
       "    <tr>\n",
       "      <th>2</th>\n",
       "      <td>3304275</td>\n",
       "      <td>1018_-1</td>\n",
       "      <td>620962.0</td>\n",
       "      <td>3</td>\n",
       "      <td>7503.0</td>\n",
       "      <td>0.0</td>\n",
       "      <td>0.0</td>\n",
       "      <td>1.0</td>\n",
       "      <td>0</td>\n",
       "      <td>50.0</td>\n",
       "      <td>...</td>\n",
       "      <td>3233068.0</td>\n",
       "      <td>6479360.0</td>\n",
       "      <td>52708071.0</td>\n",
       "      <td>0</td>\n",
       "      <td>1</td>\n",
       "      <td>0</td>\n",
       "      <td>0</td>\n",
       "      <td>0</td>\n",
       "      <td>1018.0</td>\n",
       "      <td>-1.0</td>\n",
       "    </tr>\n",
       "    <tr>\n",
       "      <th>3</th>\n",
       "      <td>9020937</td>\n",
       "      <td>1019_-1</td>\n",
       "      <td>344964.0</td>\n",
       "      <td>3</td>\n",
       "      <td>7503.0</td>\n",
       "      <td>0.0</td>\n",
       "      <td>0.0</td>\n",
       "      <td>1.0</td>\n",
       "      <td>0</td>\n",
       "      <td>416.0</td>\n",
       "      <td>...</td>\n",
       "      <td>653280.0</td>\n",
       "      <td>2714208.0</td>\n",
       "      <td>19562334.0</td>\n",
       "      <td>0</td>\n",
       "      <td>0</td>\n",
       "      <td>0</td>\n",
       "      <td>0</td>\n",
       "      <td>0</td>\n",
       "      <td>1019.0</td>\n",
       "      <td>-1.0</td>\n",
       "    </tr>\n",
       "    <tr>\n",
       "      <th>4</th>\n",
       "      <td>3082311</td>\n",
       "      <td>1020_-1</td>\n",
       "      <td>629819.0</td>\n",
       "      <td>1</td>\n",
       "      <td>7503.0</td>\n",
       "      <td>0.0</td>\n",
       "      <td>0.0</td>\n",
       "      <td>1.0</td>\n",
       "      <td>0</td>\n",
       "      <td>795.0</td>\n",
       "      <td>...</td>\n",
       "      <td>27911.0</td>\n",
       "      <td>344830.0</td>\n",
       "      <td>4719186.0</td>\n",
       "      <td>0</td>\n",
       "      <td>0</td>\n",
       "      <td>0</td>\n",
       "      <td>0</td>\n",
       "      <td>0</td>\n",
       "      <td>1020.0</td>\n",
       "      <td>-1.0</td>\n",
       "    </tr>\n",
       "  </tbody>\n",
       "</table>\n",
       "<p>5 rows × 31 columns</p>\n",
       "</div>"
      ],
      "text/plain": [
       "        id oper_type + oper_attr  index_oper  type  priority  \\\n",
       "0  6818780               1043_-1    628629.0     1    7503.0   \n",
       "1  9907176               1023_-1    102976.0     2    7503.0   \n",
       "2  3304275               1018_-1    620962.0     3    7503.0   \n",
       "3  9020937               1019_-1    344964.0     3    7503.0   \n",
       "4  3082311               1020_-1    629819.0     1    7503.0   \n",
       "\n",
       "   is_privatecategory  class  is_in_yandex  is_return  weight  ...  \\\n",
       "0                 0.0    0.0           1.0          0    87.0  ...   \n",
       "1                 0.0    0.0           0.0          0   107.0  ...   \n",
       "2                 0.0    0.0           1.0          0    50.0  ...   \n",
       "3                 0.0    0.0           1.0          0   416.0  ...   \n",
       "4                 0.0    0.0           1.0          0   795.0  ...   \n",
       "\n",
       "   total_qty_oper_login_0  total_qty_over_index_and_type  \\\n",
       "0                 58950.0                       779126.0   \n",
       "1              83318932.0                    132175590.0   \n",
       "2               3233068.0                      6479360.0   \n",
       "3                653280.0                      2714208.0   \n",
       "4                 27911.0                       344830.0   \n",
       "\n",
       "   total_qty_over_index  is_wrong_sndr_name  is_wrong_rcpn_name  \\\n",
       "0             8290896.0                   0                   0   \n",
       "1           136819803.0                   0                   0   \n",
       "2            52708071.0                   0                   1   \n",
       "3            19562334.0                   0                   0   \n",
       "4             4719186.0                   0                   0   \n",
       "\n",
       "   is_wrong_phone_number is_wrong_address  label  oper_type  oper_attr  \n",
       "0                      0                0      0     1043.0       -1.0  \n",
       "1                      0                0      0     1023.0       -1.0  \n",
       "2                      0                0      0     1018.0       -1.0  \n",
       "3                      0                0      0     1019.0       -1.0  \n",
       "4                      0                0      0     1020.0       -1.0  \n",
       "\n",
       "[5 rows x 31 columns]"
      ]
     },
     "execution_count": 19,
     "metadata": {},
     "output_type": "execute_result"
    }
   ],
   "source": [
    "df_train.is_privatecategory=df_train.is_privatecategory.map({'Y':1, 'N':0})\n",
    "df_train.is_in_yandex=df_train.is_in_yandex.map({'Y':1, 'N':0})\n",
    "df_train.is_return=df_train.is_return.map({'Y':1, 'N':0})\n",
    "df_train.type=df_train.type.map({'Участок':1, 'ММПО':2, 'Цех':3, 'П':4, 'ТИ':5, 'ГОПС':6, 'МСЦ':7, 'СОПС':8, 'АО':9,\n",
    "                                 'МРП':10, 'СЦ':11, 'МСО':12, 'ОПП':13, 'АОПП':14, 'ПЕРЕДВИЖНОЕ ОС':15, 'ОП':16, '0':17,\n",
    "                                 'ППС':18, 'УМСЦ':19, 'УКД':20})\n",
    "\n",
    "df_train.head()"
   ]
  },
  {
   "cell_type": "markdown",
   "id": "acfacbb9",
   "metadata": {},
   "source": [
    "1   oper_type + oper_attr\n",
    "16  name_mfi"
   ]
  },
  {
   "cell_type": "code",
   "execution_count": 20,
   "id": "76e24af2",
   "metadata": {},
   "outputs": [],
   "source": [
    "df_train = df_train[['id', 'index_oper', 'type', 'priority', 'is_privatecategory', 'class', 'is_in_yandex', 'is_return',\n",
    "                     'weight', 'mailtype', 'mailctg', 'mailrank', 'directctg', 'transport_pay', 'postmark', 'weight_mfi',\n",
    "                     'price_mfi', 'dist_qty_oper_login_1', 'total_qty_oper_login_1', 'total_qty_oper_login_0',\n",
    "                     'total_qty_over_index_and_type', 'total_qty_over_index', 'is_wrong_sndr_name', 'is_wrong_rcpn_name',\n",
    "                     'is_wrong_phone_number', 'is_wrong_address', 'oper_type', 'oper_attr', 'label']]"
   ]
  },
  {
   "cell_type": "code",
   "execution_count": 21,
   "id": "68d0ed9c",
   "metadata": {},
   "outputs": [
    {
     "name": "stdout",
     "output_type": "stream",
     "text": [
      "<class 'pandas.core.frame.DataFrame'>\n",
      "Int64Index: 5999846 entries, 0 to 5999999\n",
      "Data columns (total 29 columns):\n",
      " #   Column                         Dtype  \n",
      "---  ------                         -----  \n",
      " 0   id                             int64  \n",
      " 1   index_oper                     float64\n",
      " 2   type                           int64  \n",
      " 3   priority                       float64\n",
      " 4   is_privatecategory             float64\n",
      " 5   class                          float64\n",
      " 6   is_in_yandex                   float64\n",
      " 7   is_return                      int64  \n",
      " 8   weight                         float64\n",
      " 9   mailtype                       float64\n",
      " 10  mailctg                        float64\n",
      " 11  mailrank                       float64\n",
      " 12  directctg                      float64\n",
      " 13  transport_pay                  float64\n",
      " 14  postmark                       float64\n",
      " 15  weight_mfi                     float64\n",
      " 16  price_mfi                      float64\n",
      " 17  dist_qty_oper_login_1          float64\n",
      " 18  total_qty_oper_login_1         float64\n",
      " 19  total_qty_oper_login_0         float64\n",
      " 20  total_qty_over_index_and_type  float64\n",
      " 21  total_qty_over_index           float64\n",
      " 22  is_wrong_sndr_name             int64  \n",
      " 23  is_wrong_rcpn_name             int64  \n",
      " 24  is_wrong_phone_number          int64  \n",
      " 25  is_wrong_address               int64  \n",
      " 26  oper_type                      float64\n",
      " 27  oper_attr                      float64\n",
      " 28  label                          int64  \n",
      "dtypes: float64(21), int64(8)\n",
      "memory usage: 1.3 GB\n"
     ]
    }
   ],
   "source": [
    "df_train.info()"
   ]
  },
  {
   "cell_type": "code",
   "execution_count": 22,
   "id": "40815c43",
   "metadata": {},
   "outputs": [],
   "source": [
    "from sklearn.model_selection import train_test_split\n",
    "from sklearn.metrics import confusion_matrix\n",
    "from sklearn.tree import DecisionTreeClassifier\n",
    "from sklearn.metrics import accuracy_score"
   ]
  },
  {
   "cell_type": "code",
   "execution_count": 23,
   "id": "6479667b",
   "metadata": {},
   "outputs": [],
   "source": [
    "X_train, X_test, y_train, y_test = train_test_split(\n",
    "    df_train.drop(['label'], axis=1),\n",
    "    df_train.label,\n",
    "    test_size= 0.2,\n",
    "    random_state=0,\n",
    "    stratify=df_train.label\n",
    ")"
   ]
  },
  {
   "cell_type": "code",
   "execution_count": 24,
   "id": "6f59a1b8",
   "metadata": {},
   "outputs": [],
   "source": [
    "X_train.fillna(X_train.mean(), inplace=True)"
   ]
  },
  {
   "cell_type": "code",
   "execution_count": 25,
   "id": "21044044",
   "metadata": {},
   "outputs": [],
   "source": [
    "X_test.fillna(X_test.mean(), inplace=True)"
   ]
  },
  {
   "cell_type": "code",
   "execution_count": 26,
   "id": "076a1222",
   "metadata": {},
   "outputs": [
    {
     "data": {
      "text/plain": [
       "DecisionTreeClassifier()"
      ]
     },
     "execution_count": 26,
     "metadata": {},
     "output_type": "execute_result"
    }
   ],
   "source": [
    "tree = DecisionTreeClassifier()\n",
    "tree.fit(X_train, y_train)"
   ]
  },
  {
   "cell_type": "code",
   "execution_count": 27,
   "id": "59886567",
   "metadata": {},
   "outputs": [],
   "source": [
    "y_pred = tree.predict(X_test)"
   ]
  },
  {
   "cell_type": "code",
   "execution_count": 37,
   "id": "dfb1c56f",
   "metadata": {},
   "outputs": [
    {
     "name": "stdout",
     "output_type": "stream",
     "text": [
      "<class 'pandas.core.frame.DataFrame'>\n",
      "Int64Index: 1199970 entries, 361366 to 5494474\n",
      "Data columns (total 28 columns):\n",
      " #   Column                         Non-Null Count    Dtype  \n",
      "---  ------                         --------------    -----  \n",
      " 0   id                             1199970 non-null  int64  \n",
      " 1   index_oper                     1199970 non-null  float64\n",
      " 2   type                           1199970 non-null  int64  \n",
      " 3   priority                       1199970 non-null  float64\n",
      " 4   is_privatecategory             1199970 non-null  float64\n",
      " 5   class                          1199970 non-null  float64\n",
      " 6   is_in_yandex                   1199970 non-null  float64\n",
      " 7   is_return                      1199970 non-null  int64  \n",
      " 8   weight                         1199970 non-null  float64\n",
      " 9   mailtype                       1199970 non-null  float64\n",
      " 10  mailctg                        1199970 non-null  float64\n",
      " 11  mailrank                       1199970 non-null  float64\n",
      " 12  directctg                      1199970 non-null  float64\n",
      " 13  transport_pay                  1199970 non-null  float64\n",
      " 14  postmark                       1199970 non-null  float64\n",
      " 15  weight_mfi                     1199970 non-null  float64\n",
      " 16  price_mfi                      1199970 non-null  float64\n",
      " 17  dist_qty_oper_login_1          1199970 non-null  float64\n",
      " 18  total_qty_oper_login_1         1199970 non-null  float64\n",
      " 19  total_qty_oper_login_0         1199970 non-null  float64\n",
      " 20  total_qty_over_index_and_type  1199970 non-null  float64\n",
      " 21  total_qty_over_index           1199970 non-null  float64\n",
      " 22  is_wrong_sndr_name             1199970 non-null  int64  \n",
      " 23  is_wrong_rcpn_name             1199970 non-null  int64  \n",
      " 24  is_wrong_phone_number          1199970 non-null  int64  \n",
      " 25  is_wrong_address               1199970 non-null  int64  \n",
      " 26  oper_type                      1199970 non-null  float64\n",
      " 27  oper_attr                      1199970 non-null  float64\n",
      "dtypes: float64(21), int64(7)\n",
      "memory usage: 265.5 MB\n"
     ]
    }
   ],
   "source": [
    "X_test.info()"
   ]
  },
  {
   "cell_type": "code",
   "execution_count": 28,
   "id": "9305aae2",
   "metadata": {},
   "outputs": [],
   "source": [
    "acc = accuracy_score(y_test,y_pred)"
   ]
  },
  {
   "cell_type": "code",
   "execution_count": 29,
   "id": "aa25b60f",
   "metadata": {},
   "outputs": [
    {
     "data": {
      "text/plain": [
       "0.9764669116727919"
      ]
     },
     "execution_count": 29,
     "metadata": {},
     "output_type": "execute_result"
    }
   ],
   "source": [
    "acc"
   ]
  },
  {
   "cell_type": "code",
   "execution_count": 30,
   "id": "e394a632",
   "metadata": {},
   "outputs": [
    {
     "data": {
      "text/plain": [
       "array([[1151544,   14230],\n",
       "       [  14009,   20187]], dtype=int64)"
      ]
     },
     "execution_count": 30,
     "metadata": {},
     "output_type": "execute_result"
    }
   ],
   "source": [
    "cm=confusion_matrix(y_test, y_pred)\n",
    "cm"
   ]
  },
  {
   "cell_type": "code",
   "execution_count": 31,
   "id": "4316a012",
   "metadata": {},
   "outputs": [
    {
     "data": {
      "text/plain": [
       "<AxesSubplot:>"
      ]
     },
     "execution_count": 31,
     "metadata": {},
     "output_type": "execute_result"
    },
    {
     "data": {
      "image/png": "[encoded data removed]",
      "text/plain": [
       "<Figure size 432x288 with 2 Axes>"
      ]
     },
     "metadata": {
      "needs_background": "light"
     },
     "output_type": "display_data"
    }
   ],
   "source": [
    "sns.heatmap(cm,annot=True)"
   ]
  },
  {
   "cell_type": "code",
   "execution_count": null,
   "id": "3756b407",
   "metadata": {},
   "outputs": [],
   "source": [
    "df = pd.read_csv(\"test_dataset_test.csv\", sep = ',')"
   ]
  },
  {
   "cell_type": "code",
   "execution_count": null,
   "id": "0a25c725",
   "metadata": {},
   "outputs": [],
   "source": [
    "df['oper_type']=df['oper_type + oper_attr'].apply(lambda x: str(x)[:str(x).find('_')])"
   ]
  },
  {
   "cell_type": "code",
   "execution_count": null,
   "id": "5243729a",
   "metadata": {},
   "outputs": [],
   "source": [
    "df['oper_attr']=df['oper_type + oper_attr'].apply(lambda x: str(x)[str(x).find('_')+1:])"
   ]
  },
  {
   "cell_type": "code",
   "execution_count": null,
   "id": "ea6fcd88",
   "metadata": {},
   "outputs": [],
   "source": [
    "df['index_oper'] = df['index_oper'].astype(str)\n",
    "df['index_oper'] = df['index_oper'].apply(lambda x: x.replace('.0', ''))"
   ]
  },
  {
   "cell_type": "code",
   "execution_count": null,
   "id": "e19bf36d",
   "metadata": {},
   "outputs": [],
   "source": [
    "df = df.loc[df['index_oper'] != ' ']"
   ]
  },
  {
   "cell_type": "code",
   "execution_count": null,
   "id": "1f890ab6",
   "metadata": {},
   "outputs": [],
   "source": [
    "df['index_oper'] = df['index_oper'].astype(float)"
   ]
  },
  {
   "cell_type": "code",
   "execution_count": null,
   "id": "28512a2e",
   "metadata": {},
   "outputs": [],
   "source": [
    "df['oper_type'] = df['oper_type'].astype(float)\n",
    "df['oper_attr'] = df['oper_attr'].astype(float)"
   ]
  },
  {
   "cell_type": "code",
   "execution_count": null,
   "id": "f449f7db",
   "metadata": {},
   "outputs": [],
   "source": [
    "df.is_privatecategory=df.is_privatecategory.map({'Y':1, 'N':0})\n",
    "df.is_in_yandex=df.is_in_yandex.map({'Y':1, 'N':0})\n",
    "df.is_return=df.is_return.map({'Y':1, 'N':0})\n",
    "df.type=df.type.map({'Участок':1, 'ММПО':2, 'Цех':3, 'П':4, 'ТИ':5, 'ГОПС':6, 'МСЦ':7, 'СОПС':8, 'АО':9,\n",
    "                                 'МРП':10, 'СЦ':11, 'МСО':12, 'ОПП':13, 'АОПП':14, 'ПЕРЕДВИЖНОЕ ОС':15, 'ОП':16, '0':17,\n",
    "                                 'ППС':18, 'УМСЦ':19, 'УКД':20})"
   ]
  },
  {
   "cell_type": "code",
   "execution_count": null,
   "id": "eba82249",
   "metadata": {},
   "outputs": [],
   "source": [
    "df = df[['id', 'index_oper', 'type', 'priority', 'is_privatecategory', 'class', 'is_in_yandex', 'is_return',\n",
    "                     'weight', 'mailtype', 'mailctg', 'mailrank', 'directctg', 'transport_pay', 'postmark', 'weight_mfi',\n",
    "                     'price_mfi', 'dist_qty_oper_login_1', 'total_qty_oper_login_1', 'total_qty_oper_login_0',\n",
    "                     'total_qty_over_index_and_type', 'total_qty_over_index', 'is_wrong_sndr_name', 'is_wrong_rcpn_name',\n",
    "                     'is_wrong_phone_number', 'is_wrong_address', 'oper_type', 'oper_attr']]"
   ]
  },
  {
   "cell_type": "code",
   "execution_count": 33,
   "id": "8a46da83",
   "metadata": {},
   "outputs": [],
   "source": [
    "df_pred = df"
   ]
  },
  {
   "cell_type": "code",
   "execution_count": 35,
   "id": "a9fc1266",
   "metadata": {},
   "outputs": [],
   "source": [
    "df_pred.fillna(df_pred.mean(), inplace=True)"
   ]
  },
  {
   "cell_type": "code",
   "execution_count": 40,
   "id": "96c81f9a",
   "metadata": {},
   "outputs": [],
   "source": [
    "df_pred = df_pred.drop(['Unnamed: 0'], axis=1)"
   ]
  },
  {
   "cell_type": "code",
   "execution_count": 41,
   "id": "25f9691b",
   "metadata": {},
   "outputs": [],
   "source": [
    "y_pred = tree.predict(df_pred)"
   ]
  },
  {
   "cell_type": "code",
   "execution_count": 42,
   "id": "ed8516e2",
   "metadata": {},
   "outputs": [
    {
     "data": {
      "text/plain": [
       "array([0, 0, 0, ..., 0, 0, 0], dtype=int64)"
      ]
     },
     "execution_count": 42,
     "metadata": {},
     "output_type": "execute_result"
    }
   ],
   "source": [
    "y_pred"
   ]
  },
  {
   "cell_type": "code",
   "execution_count": 48,
   "id": "2230eede",
   "metadata": {},
   "outputs": [],
   "source": [
    "df_lable_res = pd.DataFrame(y_pred).reset_index()"
   ]
  },
  {
   "cell_type": "code",
   "execution_count": 49,
   "id": "2137c5f9",
   "metadata": {},
   "outputs": [
    {
     "data": {
      "text/html": [
       "<div>\n",
       "<style scoped>\n",
       "    .dataframe tbody tr th:only-of-type {\n",
       "        vertical-align: middle;\n",
       "    }\n",
       "\n",
       "    .dataframe tbody tr th {\n",
       "        vertical-align: top;\n",
       "    }\n",
       "\n",
       "    .dataframe thead th {\n",
       "        text-align: right;\n",
       "    }\n",
       "</style>\n",
       "<table border=\"1\" class=\"dataframe\">\n",
       "  <thead>\n",
       "    <tr style=\"text-align: right;\">\n",
       "      <th></th>\n",
       "      <th>index</th>\n",
       "      <th>0</th>\n",
       "    </tr>\n",
       "  </thead>\n",
       "  <tbody>\n",
       "    <tr>\n",
       "      <th>0</th>\n",
       "      <td>0</td>\n",
       "      <td>0</td>\n",
       "    </tr>\n",
       "    <tr>\n",
       "      <th>1</th>\n",
       "      <td>1</td>\n",
       "      <td>0</td>\n",
       "    </tr>\n",
       "    <tr>\n",
       "      <th>2</th>\n",
       "      <td>2</td>\n",
       "      <td>0</td>\n",
       "    </tr>\n",
       "    <tr>\n",
       "      <th>3</th>\n",
       "      <td>3</td>\n",
       "      <td>0</td>\n",
       "    </tr>\n",
       "    <tr>\n",
       "      <th>4</th>\n",
       "      <td>4</td>\n",
       "      <td>0</td>\n",
       "    </tr>\n",
       "  </tbody>\n",
       "</table>\n",
       "</div>"
      ],
      "text/plain": [
       "   index  0\n",
       "0      0  0\n",
       "1      1  0\n",
       "2      2  0\n",
       "3      3  0\n",
       "4      4  0"
      ]
     },
     "execution_count": 49,
     "metadata": {},
     "output_type": "execute_result"
    }
   ],
   "source": [
    "df_lable_res.head()"
   ]
  },
  {
   "cell_type": "code",
   "execution_count": 50,
   "id": "c333bfd8",
   "metadata": {},
   "outputs": [
    {
     "data": {
      "text/html": [
       "<div>\n",
       "<style scoped>\n",
       "    .dataframe tbody tr th:only-of-type {\n",
       "        vertical-align: middle;\n",
       "    }\n",
       "\n",
       "    .dataframe tbody tr th {\n",
       "        vertical-align: top;\n",
       "    }\n",
       "\n",
       "    .dataframe thead th {\n",
       "        text-align: right;\n",
       "    }\n",
       "</style>\n",
       "<table border=\"1\" class=\"dataframe\">\n",
       "  <thead>\n",
       "    <tr style=\"text-align: right;\">\n",
       "      <th></th>\n",
       "      <th>index</th>\n",
       "      <th>id</th>\n",
       "    </tr>\n",
       "  </thead>\n",
       "  <tbody>\n",
       "    <tr>\n",
       "      <th>0</th>\n",
       "      <td>0</td>\n",
       "      <td>7815282</td>\n",
       "    </tr>\n",
       "    <tr>\n",
       "      <th>1</th>\n",
       "      <td>1</td>\n",
       "      <td>8443555</td>\n",
       "    </tr>\n",
       "    <tr>\n",
       "      <th>2</th>\n",
       "      <td>2</td>\n",
       "      <td>6352559</td>\n",
       "    </tr>\n",
       "    <tr>\n",
       "      <th>3</th>\n",
       "      <td>3</td>\n",
       "      <td>4921420</td>\n",
       "    </tr>\n",
       "    <tr>\n",
       "      <th>4</th>\n",
       "      <td>4</td>\n",
       "      <td>1420440</td>\n",
       "    </tr>\n",
       "  </tbody>\n",
       "</table>\n",
       "</div>"
      ],
      "text/plain": [
       "   index       id\n",
       "0      0  7815282\n",
       "1      1  8443555\n",
       "2      2  6352559\n",
       "3      3  4921420\n",
       "4      4  1420440"
      ]
     },
     "execution_count": 50,
     "metadata": {},
     "output_type": "execute_result"
    }
   ],
   "source": [
    "df_result = df_pred['id'].reset_index()\n",
    "df_result.head()"
   ]
  },
  {
   "cell_type": "code",
   "execution_count": 51,
   "id": "b3d2ac69",
   "metadata": {},
   "outputs": [
    {
     "data": {
      "text/html": [
       "<div>\n",
       "<style scoped>\n",
       "    .dataframe tbody tr th:only-of-type {\n",
       "        vertical-align: middle;\n",
       "    }\n",
       "\n",
       "    .dataframe tbody tr th {\n",
       "        vertical-align: top;\n",
       "    }\n",
       "\n",
       "    .dataframe thead th {\n",
       "        text-align: right;\n",
       "    }\n",
       "</style>\n",
       "<table border=\"1\" class=\"dataframe\">\n",
       "  <thead>\n",
       "    <tr style=\"text-align: right;\">\n",
       "      <th></th>\n",
       "      <th>index</th>\n",
       "      <th>id</th>\n",
       "      <th>0</th>\n",
       "    </tr>\n",
       "  </thead>\n",
       "  <tbody>\n",
       "    <tr>\n",
       "      <th>0</th>\n",
       "      <td>0</td>\n",
       "      <td>7815282</td>\n",
       "      <td>0</td>\n",
       "    </tr>\n",
       "    <tr>\n",
       "      <th>1</th>\n",
       "      <td>1</td>\n",
       "      <td>8443555</td>\n",
       "      <td>0</td>\n",
       "    </tr>\n",
       "    <tr>\n",
       "      <th>2</th>\n",
       "      <td>2</td>\n",
       "      <td>6352559</td>\n",
       "      <td>0</td>\n",
       "    </tr>\n",
       "    <tr>\n",
       "      <th>3</th>\n",
       "      <td>3</td>\n",
       "      <td>4921420</td>\n",
       "      <td>0</td>\n",
       "    </tr>\n",
       "    <tr>\n",
       "      <th>4</th>\n",
       "      <td>4</td>\n",
       "      <td>1420440</td>\n",
       "      <td>0</td>\n",
       "    </tr>\n",
       "    <tr>\n",
       "      <th>...</th>\n",
       "      <td>...</td>\n",
       "      <td>...</td>\n",
       "      <td>...</td>\n",
       "    </tr>\n",
       "    <tr>\n",
       "      <th>3999894</th>\n",
       "      <td>3999894</td>\n",
       "      <td>9030800</td>\n",
       "      <td>0</td>\n",
       "    </tr>\n",
       "    <tr>\n",
       "      <th>3999895</th>\n",
       "      <td>3999895</td>\n",
       "      <td>6275048</td>\n",
       "      <td>0</td>\n",
       "    </tr>\n",
       "    <tr>\n",
       "      <th>3999896</th>\n",
       "      <td>3999896</td>\n",
       "      <td>4701757</td>\n",
       "      <td>0</td>\n",
       "    </tr>\n",
       "    <tr>\n",
       "      <th>3999897</th>\n",
       "      <td>3999897</td>\n",
       "      <td>611153</td>\n",
       "      <td>0</td>\n",
       "    </tr>\n",
       "    <tr>\n",
       "      <th>3999898</th>\n",
       "      <td>3999898</td>\n",
       "      <td>7776936</td>\n",
       "      <td>0</td>\n",
       "    </tr>\n",
       "  </tbody>\n",
       "</table>\n",
       "<p>3999899 rows × 3 columns</p>\n",
       "</div>"
      ],
      "text/plain": [
       "           index       id  0\n",
       "0              0  7815282  0\n",
       "1              1  8443555  0\n",
       "2              2  6352559  0\n",
       "3              3  4921420  0\n",
       "4              4  1420440  0\n",
       "...          ...      ... ..\n",
       "3999894  3999894  9030800  0\n",
       "3999895  3999895  6275048  0\n",
       "3999896  3999896  4701757  0\n",
       "3999897  3999897   611153  0\n",
       "3999898  3999898  7776936  0\n",
       "\n",
       "[3999899 rows x 3 columns]"
      ]
     },
     "execution_count": 51,
     "metadata": {},
     "output_type": "execute_result"
    }
   ],
   "source": [
    "df_result = df_result.merge(df_lable_res, on = 'index')\n",
    "df_result"
   ]
  },
  {
   "cell_type": "code",
   "execution_count": 52,
   "id": "8d8f291a",
   "metadata": {},
   "outputs": [],
   "source": [
    "df_result = df_result.drop(['index'], axis=1)\n",
    "df_result.columns = (['id', 'lable'])"
   ]
  },
  {
   "cell_type": "code",
   "execution_count": 55,
   "id": "5bfe9b6c",
   "metadata": {},
   "outputs": [
    {
     "data": {
      "text/html": [
       "<div>\n",
       "<style scoped>\n",
       "    .dataframe tbody tr th:only-of-type {\n",
       "        vertical-align: middle;\n",
       "    }\n",
       "\n",
       "    .dataframe tbody tr th {\n",
       "        vertical-align: top;\n",
       "    }\n",
       "\n",
       "    .dataframe thead th {\n",
       "        text-align: right;\n",
       "    }\n",
       "</style>\n",
       "<table border=\"1\" class=\"dataframe\">\n",
       "  <thead>\n",
       "    <tr style=\"text-align: right;\">\n",
       "      <th></th>\n",
       "      <th>id</th>\n",
       "      <th>lable</th>\n",
       "    </tr>\n",
       "  </thead>\n",
       "  <tbody>\n",
       "    <tr>\n",
       "      <th>count</th>\n",
       "      <td>3.999899e+06</td>\n",
       "      <td>3.999899e+06</td>\n",
       "    </tr>\n",
       "    <tr>\n",
       "      <th>mean</th>\n",
       "      <td>5.001241e+06</td>\n",
       "      <td>2.878248e-02</td>\n",
       "    </tr>\n",
       "    <tr>\n",
       "      <th>std</th>\n",
       "      <td>2.887143e+06</td>\n",
       "      <td>1.671947e-01</td>\n",
       "    </tr>\n",
       "    <tr>\n",
       "      <th>min</th>\n",
       "      <td>0.000000e+00</td>\n",
       "      <td>0.000000e+00</td>\n",
       "    </tr>\n",
       "    <tr>\n",
       "      <th>25%</th>\n",
       "      <td>2.499766e+06</td>\n",
       "      <td>0.000000e+00</td>\n",
       "    </tr>\n",
       "    <tr>\n",
       "      <th>50%</th>\n",
       "      <td>5.000932e+06</td>\n",
       "      <td>0.000000e+00</td>\n",
       "    </tr>\n",
       "    <tr>\n",
       "      <th>75%</th>\n",
       "      <td>7.502302e+06</td>\n",
       "      <td>0.000000e+00</td>\n",
       "    </tr>\n",
       "    <tr>\n",
       "      <th>max</th>\n",
       "      <td>9.999998e+06</td>\n",
       "      <td>1.000000e+00</td>\n",
       "    </tr>\n",
       "  </tbody>\n",
       "</table>\n",
       "</div>"
      ],
      "text/plain": [
       "                 id         lable\n",
       "count  3.999899e+06  3.999899e+06\n",
       "mean   5.001241e+06  2.878248e-02\n",
       "std    2.887143e+06  1.671947e-01\n",
       "min    0.000000e+00  0.000000e+00\n",
       "25%    2.499766e+06  0.000000e+00\n",
       "50%    5.000932e+06  0.000000e+00\n",
       "75%    7.502302e+06  0.000000e+00\n",
       "max    9.999998e+06  1.000000e+00"
      ]
     },
     "execution_count": 55,
     "metadata": {},
     "output_type": "execute_result"
    }
   ],
   "source": [
    "df_result.describe()"
   ]
  },
  {
   "cell_type": "code",
   "execution_count": 57,
   "id": "50a6fb08",
   "metadata": {},
   "outputs": [],
   "source": [
    "df_result.to_csv('Result_Post.csv', sep = ',')"
   ]
  }
 ],
 "metadata": {
  "kernelspec": {
   "display_name": "Python 3 (ipykernel)",
   "language": "python",
   "name": "python3"
  },
  "language_info": {
   "codemirror_mode": {
    "name": "ipython",
    "version": 3
   },
   "file_extension": ".py",
   "mimetype": "text/x-python",
   "name": "python",
   "nbconvert_exporter": "python",
   "pygments_lexer": "ipython3",
   "version": "3.9.12"
  }
 },
 "nbformat": 4,
 "nbformat_minor": 5
}
